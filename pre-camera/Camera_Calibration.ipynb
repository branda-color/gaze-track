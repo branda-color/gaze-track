{
 "cells": [
  {
   "cell_type": "code",
   "execution_count": null,
   "id": "202d05eb-ee2b-45c1-88fd-8b8eb130a095",
   "metadata": {},
   "outputs": [],
   "source": [
    "import cv2\n",
    "import numpy as np\n",
    "import glob\n",
    "\n",
    "# 定義棋盤格的大小（內角點數量，9x6 的棋盤為 (9, 6)）\n",
    "chessboard_size = (9, 6)\n",
    "# 每個方格的物理尺寸（例如邊長 1 單位，可以是毫米、厘米等）\n",
    "square_size = 1.0\n",
    "\n",
    "# 準備棋盤格的 3D 坐標點（例如 (0,0,0), (1,0,0), ..., (8,5,0)）\n",
    "objp = np.zeros((chessboard_size[0] * chessboard_size[1], 3), np.float32)\n",
    "objp[:, :2] = np.mgrid[0:chessboard_size[0], 0:chessboard_size[1]].T.reshape(-1, 2) * square_size\n",
    "\n",
    "# 儲存所有的物理和影像座標\n",
    "objpoints = []  # 3D 坐標點（真實世界中的）\n",
    "imgpoints = []  # 2D 坐標點（影像中的）\n",
    "\n",
    "# 讀取包含棋盤格的所有影像\n",
    "images = glob.glob('./calibration_images/*.jpg')  # 修改為你的影像資料夾路徑\n",
    "\n",
    "for fname in images:\n",
    "    img = cv2.imread(fname)\n",
    "    gray = cv2.cvtColor(img, cv2.COLOR_BGR2GRAY)\n",
    "\n",
    "    # 嘗試在影像中找到棋盤格角點\n",
    "    ret, corners = cv2.findChessboardCorners(gray, chessboard_size, None)\n",
    "\n",
    "    if ret:\n",
    "        objpoints.append(objp)  # 加入這張影像的 3D 點\n",
    "        imgpoints.append(corners)  # 加入這張影像的 2D 點\n",
    "\n",
    "        # 在影像中繪製角點，供檢查用\n",
    "        cv2.drawChessboardCorners(img, chessboard_size, corners, ret)\n",
    "        cv2.imshow('Chessboard', img)\n",
    "        cv2.waitKey(500)\n",
    "\n",
    "cv2.destroyAllWindows()\n",
    "\n",
    "# 使用所有影像的 objpoints 和 imgpoints 執行相機校正\n",
    "ret, cameraMatrix, distCoeffs, rvecs, tvecs = cv2.calibrateCamera(objpoints, imgpoints, gray.shape[::-1], None, None)\n",
    "\n",
    "# 儲存校正結果\n",
    "print(\"Camera Matrix:\\n\", cameraMatrix)\n",
    "print(\"Distortion Coefficients:\\n\", distCoeffs)\n",
    "\n",
    "# 保存為文件（例如 calibration_matrix.yaml 或 calibration_data.npz）\n",
    "np.savez(\"calibration_data.npz\", cameraMatrix=cameraMatrix, distCoeffs=distCoeffs, rvecs=rvecs, tvecs=tvecs)\n",
    "\n",
    "# 確認校準誤差\n",
    "mean_error = 0\n",
    "for i in range(len(objpoints)):\n",
    "    imgpoints2, _ = cv2.projectPoints(objpoints[i], rvecs[i], tvecs[i], cameraMatrix, distCoeffs)\n",
    "    error = cv2.norm(imgpoints[i], imgpoints2, cv2.NORM_L2) / len(imgpoints2)\n",
    "    mean_error += error\n",
    "print(\"Total Calibration Error: \", mean_error / len(objpoints))"
   ]
  }
 ],
 "metadata": {
  "kernelspec": {
   "display_name": "Python 3 (ipykernel)",
   "language": "python",
   "name": "python3"
  },
  "language_info": {
   "codemirror_mode": {
    "name": "ipython",
    "version": 3
   },
   "file_extension": ".py",
   "mimetype": "text/x-python",
   "name": "python",
   "nbconvert_exporter": "python",
   "pygments_lexer": "ipython3",
   "version": "3.8.20"
  }
 },
 "nbformat": 4,
 "nbformat_minor": 5
}
